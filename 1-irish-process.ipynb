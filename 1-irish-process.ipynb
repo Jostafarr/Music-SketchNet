{
 "cells": [
  {
   "cell_type": "code",
   "execution_count": null,
   "metadata": {},
   "outputs": [],
   "source": [
    "'''\n",
    "Welcome to Music SketchNet! \n",
    "--------------------------\n",
    "This is the first file you click in this folder to start.\n",
    "We will guide you in each process of the Music SketchNet, including:\n",
    "    1. data processing\n",
    "    2. model construction\n",
    "    3. model training/infering\n",
    "    4. evaluation.\n",
    "--------------------------\n",
    "This file is to process the dataset that used in Music SketchNet\n",
    "'''\n",
    "import pretty_midi as pyd\n",
    "import numpy as np\n",
    "import os\n",
    "import random\n",
    "from loader.dataloader import MIDI_Loader\n",
    "from loader.chordloader import Chord_Loader\n",
    "import copy\n",
    "\n",
    "# dataset path\n",
    "dataset_path = [\"data/IrishFolkSong/session/\"]\n"
   ]
  },
  {
   "cell_type": "code",
   "execution_count": null,
   "metadata": {},
   "outputs": [],
   "source": [
    "# load data from Midis \n",
    "ml = MIDI_Loader(\"Irish\",minStep = 0.5 / 6)\n",
    "ml.load(dataset_path[0])"
   ]
  },
  {
   "cell_type": "code",
   "execution_count": null,
   "metadata": {},
   "outputs": [],
   "source": [
    "# process all files to the mesaure data for VAE tranining\n",
    "s = ml.processed_all()"
   ]
  },
  {
   "cell_type": "code",
   "execution_count": null,
   "metadata": {},
   "outputs": [],
   "source": [
    "#  now you would able to see the files like\n",
    "print(s[0])"
   ]
  },
  {
   "cell_type": "code",
   "execution_count": null,
   "metadata": {},
   "outputs": [],
   "source": [
    "# Save it to irish_train, validate, or test\n",
    "# you can split the dataset in folder and read it, or read it then divide it. \n",
    "# I use three folders for train, validate, and test.\n",
    "np.save(\"irish_train.npy\", s)"
   ]
  }
 ],
 "metadata": {
  "kernelspec": {
   "display_name": "Python 3",
   "language": "python",
   "name": "python3"
  },
  "language_info": {
   "codemirror_mode": {
    "name": "ipython",
    "version": 3
   },
   "file_extension": ".py",
   "mimetype": "text/x-python",
   "name": "python",
   "nbconvert_exporter": "python",
   "pygments_lexer": "ipython3",
   "version": "3.7.6"
  }
 },
 "nbformat": 4,
 "nbformat_minor": 4
}
