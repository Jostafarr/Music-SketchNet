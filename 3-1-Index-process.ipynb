{
 "cells": [
  {
   "cell_type": "code",
   "execution_count": null,
   "metadata": {},
   "outputs": [],
   "source": [
    "'''\n",
    "In this file we start to process the measure index for generation training\n",
    "The reason is because we should each feed 16 measures into the model\n",
    "'''\n",
    "import os\n",
    "import numpy as np\n",
    "\n",
    "# if you want to process SketchVAE data, you should set the path to be the irish_xxx_chord_and_rhythm.npy\n",
    "data_path = [\n",
    "    \"data/irish_train.npy\",\n",
    "    \"data/irish_validate.npy\",\n",
    "    \"data/irish_test.npy\"\n",
    "]\n"
   ]
  },
  {
   "cell_type": "code",
   "execution_count": null,
   "metadata": {},
   "outputs": [],
   "source": [
    "train_x = np.load(data_path[0],allow_pickle=True)\n",
    "val_x = np.load(data_path[1],allow_pickle=True)\n",
    "test_x = np.load(data_path[2],allow_pickle=True)\n",
    "print(len(train_x))\n",
    "print(len(val_x))\n",
    "print(len(test_x))\n",
    "# "
   ]
  },
  {
   "cell_type": "code",
   "execution_count": null,
   "metadata": {},
   "outputs": [],
   "source": [
    "seq_len = 16\n",
    "def create_index_x(whole_x):\n",
    "    overlap = 8\n",
    "    # index range number\n",
    "    ras = []\n",
    "    for i in range(len(whole_x)):\n",
    "        d = whole_x[i]\n",
    "        L = len(d)\n",
    "        if L < seq_len:\n",
    "            continue\n",
    "        ra = list(range(0, L - seq_len + 1, overlap))\n",
    "        ra = [[i, d,d + seq_len - 1] for d in ra]\n",
    "        ras.extend(ra)\n",
    "        if i % 1000 == 0:\n",
    "            print(\"processed:\",i)\n",
    "    ras = np.array(ras)\n",
    "#     np.random.shuffle(ras)\n",
    "    return ras\n",
    "index_train_x = create_index_x(train_x)"
   ]
  },
  {
   "cell_type": "code",
   "execution_count": null,
   "metadata": {},
   "outputs": [],
   "source": [
    "np.save(\"vae_data/irish_train_index.npy\",ras)"
   ]
  }
 ],
 "metadata": {
  "kernelspec": {
   "display_name": "Python 3",
   "language": "python",
   "name": "python3"
  },
  "language_info": {
   "codemirror_mode": {
    "name": "ipython",
    "version": 3
   },
   "file_extension": ".py",
   "mimetype": "text/x-python",
   "name": "python",
   "nbconvert_exporter": "python",
   "pygments_lexer": "ipython3",
   "version": "3.7.6"
  }
 },
 "nbformat": 4,
 "nbformat_minor": 4
}
